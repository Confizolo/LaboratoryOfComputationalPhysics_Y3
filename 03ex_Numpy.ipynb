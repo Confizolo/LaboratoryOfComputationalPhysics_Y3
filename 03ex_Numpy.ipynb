{
 "cells": [
  {
   "cell_type": "markdown",
   "metadata": {},
   "source": [
    "### Numpy basics"
   ]
  },
  {
   "cell_type": "code",
   "execution_count": 2,
   "metadata": {},
   "outputs": [],
   "source": [
    "import numpy as np\n",
    "import matplotlib.pyplot as plt"
   ]
  },
  {
   "cell_type": "markdown",
   "metadata": {},
   "source": [
    "1\\. Find the row, column and overall means for the following matrix:\n",
    "\n",
    "```python\n",
    "m = np.arange(12).reshape((3,4))\n",
    "```"
   ]
  },
  {
   "cell_type": "code",
   "execution_count": 4,
   "metadata": {},
   "outputs": [
    {
     "name": "stdout",
     "output_type": "stream",
     "text": [
      "Mean for first column: 4.0 Mean for second column: 5.0 Mean for third column: 6.0\n",
      "Mean for first row: 1.5 Mean for second row: 5.5 Mean for third row: 9.5\n",
      "Complexive mean: 5.5\n"
     ]
    }
   ],
   "source": [
    "#Solution\n",
    "m = np.arange(12).reshape((3,4))\n",
    "\n",
    "print(\"Mean for first column:\",m[:,0].mean(),\"Mean for second column:\",m[:,1].mean(),\"Mean for third column:\",m[:,2].mean())\n",
    "print(\"Mean for first row:\",m[0,:].mean(),\"Mean for second row:\",m[1,:].mean(),\"Mean for third row:\",m[2,:].mean())\n",
    "print(\"Complexive mean:\", m.mean())"
   ]
  },
  {
   "cell_type": "markdown",
   "metadata": {},
   "source": [
    "2\\. Find the outer product of the following two vecotrs\n",
    "\n",
    "```python\n",
    "u = np.array([1,3,5,7])\n",
    "v = np.array([2,4,6,8])\n",
    "```\n",
    "\n",
    "Do this in the following ways:\n",
    "\n",
    "   * Using the function outer in numpy\n",
    "   * Using a nested for loop or list comprehension\n",
    "   * Using numpy broadcasting operatoins\n"
   ]
  },
  {
   "cell_type": "code",
   "execution_count": 28,
   "metadata": {},
   "outputs": [
    {
     "name": "stdout",
     "output_type": "stream",
     "text": [
      "[[ 2  4  6  8]\n",
      " [ 6 12 18 24]\n",
      " [10 20 30 40]\n",
      " [14 28 42 56]]\n",
      "[[ 2  4  6  8]\n",
      " [ 6 12 18 24]\n",
      " [10 20 30 40]\n",
      " [14 28 42 56]]\n",
      "[[ 2  4  6  8]\n",
      " [ 6 12 18 24]\n",
      " [10 20 30 40]\n",
      " [14 28 42 56]]\n"
     ]
    }
   ],
   "source": [
    "#Solution\n",
    "u = np.array([1,3,5,7])\n",
    "v = np.array([2,4,6,8])\n",
    "print(np.outer(u,v))\n",
    "print(np.array([[i*j for j in v] for i in u]).reshape(4,4))\n",
    "print(np.array([v*i for i in u]))"
   ]
  },
  {
   "cell_type": "markdown",
   "metadata": {},
   "source": [
    "3\\. Create a 10 by 6 matrix of random uniform numbers. Set all rows with any entry less than 0.1 to be zero\n",
    "\n",
    "Hint: Use the following numpy functions - np.random.random, np.any as well as Boolean indexing and the axis argument."
   ]
  },
  {
   "cell_type": "code",
   "execution_count": 31,
   "metadata": {
    "scrolled": true
   },
   "outputs": [
    {
     "data": {
      "text/plain": [
       "array([[0.        , 0.        , 0.        , 0.        , 0.        ,\n",
       "        0.        ],\n",
       "       [0.67074908, 0.82585276, 0.13670659, 0.57509333, 0.89132195,\n",
       "        0.20920212],\n",
       "       [0.18532822, 0.10837689, 0.21969749, 0.97862378, 0.81168315,\n",
       "        0.17194101],\n",
       "       [0.81622475, 0.27407375, 0.43170418, 0.94002982, 0.81764938,\n",
       "        0.33611195],\n",
       "       [0.        , 0.        , 0.        , 0.        , 0.        ,\n",
       "        0.        ],\n",
       "       [0.        , 0.        , 0.        , 0.        , 0.        ,\n",
       "        0.        ],\n",
       "       [0.        , 0.        , 0.        , 0.        , 0.        ,\n",
       "        0.        ],\n",
       "       [0.        , 0.        , 0.        , 0.        , 0.        ,\n",
       "        0.        ],\n",
       "       [0.28589569, 0.85239509, 0.97500649, 0.88485329, 0.35950784,\n",
       "        0.59885895],\n",
       "       [0.        , 0.        , 0.        , 0.        , 0.        ,\n",
       "        0.        ]])"
      ]
     },
     "execution_count": 31,
     "metadata": {},
     "output_type": "execute_result"
    }
   ],
   "source": [
    "import numpy.random as npr\n",
    "np.random.seed(100)        \n",
    "a=npr.rand(10,6)\n",
    "a[np.any(a<0.1,axis=1)]=0\n",
    "a"
   ]
  },
  {
   "cell_type": "markdown",
   "metadata": {},
   "source": [
    "4\\. Use np.linspace to create an array of 100 numbers between 0 and 2π (includsive).\n",
    "\n",
    "  * Extract every 10th element using slice notation\n",
    "  * Reverse the array using slice notation\n",
    "  * Extract elements where the absolute difference between the sine and cosine functions evaluated at that element is less than 0.1\n",
    "  * Make a plot showing the sin and cos functions and indicate where they are close"
   ]
  },
  {
   "cell_type": "code",
   "execution_count": 11,
   "metadata": {
    "scrolled": true
   },
   "outputs": [
    {
     "name": "stdout",
     "output_type": "stream",
     "text": [
      "[0.         0.63466518 1.26933037 1.90399555 2.53866073 3.17332591\n",
      " 3.8079911  4.44265628 5.07732146 5.71198664]\n",
      "[6.28318531 6.21971879 6.15625227 6.09278575 6.02931923 5.96585272\n",
      " 5.9023862  5.83891968 5.77545316 5.71198664 5.64852012 5.58505361\n",
      " 5.52158709 5.45812057 5.39465405 5.33118753 5.26772102 5.2042545\n",
      " 5.14078798 5.07732146 5.01385494 4.95038842 4.88692191 4.82345539\n",
      " 4.75998887 4.69652235 4.63305583 4.56958931 4.5061228  4.44265628\n",
      " 4.37918976 4.31572324 4.25225672 4.1887902  4.12532369 4.06185717\n",
      " 3.99839065 3.93492413 3.87145761 3.8079911  3.74452458 3.68105806\n",
      " 3.61759154 3.55412502 3.4906585  3.42719199 3.36372547 3.30025895\n",
      " 3.23679243 3.17332591 3.10985939 3.04639288 2.98292636 2.91945984\n",
      " 2.85599332 2.7925268  2.72906028 2.66559377 2.60212725 2.53866073\n",
      " 2.47519421 2.41172769 2.34826118 2.28479466 2.22132814 2.15786162\n",
      " 2.0943951  2.03092858 1.96746207 1.90399555 1.84052903 1.77706251\n",
      " 1.71359599 1.65012947 1.58666296 1.52319644 1.45972992 1.3962634\n",
      " 1.33279688 1.26933037 1.20586385 1.14239733 1.07893081 1.01546429\n",
      " 0.95199777 0.88853126 0.82506474 0.76159822 0.6981317  0.63466518\n",
      " 0.57119866 0.50773215 0.44426563 0.38079911 0.31733259 0.25386607\n",
      " 0.19039955 0.12693304 0.06346652 0.        ]\n",
      "[0.76159822 0.82506474 3.87145761 3.93492413]\n"
     ]
    },
    {
     "data": {
      "text/plain": [
       "<matplotlib.legend.Legend at 0x7f0511573c70>"
      ]
     },
     "execution_count": 11,
     "metadata": {},
     "output_type": "execute_result"
    },
    {
     "data": {
      "image/png": "[encoded data removed]",
      "text/plain": [
       "<Figure size 432x288 with 1 Axes>"
      ]
     },
     "metadata": {
      "needs_background": "light"
     },
     "output_type": "display_data"
    }
   ],
   "source": [
    "#Solution\n",
    "l=np.linspace(0,2*np.pi,100)\n",
    "\n",
    "print(l[::10])\n",
    "\n",
    "h=l[::-1]\n",
    "print(h)\n",
    "\n",
    "b=l[(abs(np.sin(l)-np.cos(l))<0.1)]\n",
    "print(b)\n",
    "\n",
    "plt.plot(l,np.sin(l),label='Sin')\n",
    "plt.plot(l,np.cos(l),label='Cos')\n",
    "plt.legend()"
   ]
  },
  {
   "cell_type": "markdown",
   "metadata": {},
   "source": [
    "5\\. Create a matrix that shows the 10 by 10 multiplication table.\n",
    "\n",
    " * Find the trace of the matrix\n",
    " * Extract the anto-diagonal (this should be ```array([10, 18, 24, 28, 30, 30, 28, 24, 18, 10])```)\n",
    " * Extract the diagnoal offset by 1 upwards (this should be ```array([ 2,  6, 12, 20, 30, 42, 56, 72, 90])```)"
   ]
  },
  {
   "cell_type": "code",
   "execution_count": 6,
   "metadata": {},
   "outputs": [
    {
     "name": "stdout",
     "output_type": "stream",
     "text": [
      "385.0\n",
      "[ 2.  6. 12. 20. 30. 42. 56. 72. 90.]\n",
      "[10. 18. 24. 28. 30. 30. 28. 24. 18. 10.]\n"
     ]
    }
   ],
   "source": [
    "#Solution\n",
    "m=np.fromfunction(lambda i,j: (i+1)*(j+1), (10,10))\n",
    "\n",
    "print(m.trace())\n",
    "\n",
    "print(np.fliplr(m).diagonal())\n",
    "\n",
    "print(np.diag(m,k=1))\n",
    "\n"
   ]
  },
  {
   "cell_type": "markdown",
   "metadata": {},
   "source": [
    "6\\. Use broadcasting to create a grid of distances\n",
    "\n",
    "Route 66 crosses the following cities in the US: Chicago, Springfield, Saint-Louis, Tulsa, Oklahoma City, Amarillo, Santa Fe, Albuquerque, Flagstaff, Los Angeles\n",
    "The corresponding positions in miles are: 0, 198, 303, 736, 871, 1175, 1475, 1544, 1913, 2448\n",
    "\n",
    "  * Construct a 2D grid of distances among each city along Route 66\n",
    "  * Convert that in km (those savages...)"
   ]
  },
  {
   "cell_type": "code",
   "execution_count": 100,
   "metadata": {
    "scrolled": true
   },
   "outputs": [
    {
     "name": "stdout",
     "output_type": "stream",
     "text": [
      "[[   0  198  303  736  871 1175 1475 1544 1913 2448]\n",
      " [ 198    0  105  538  673  977 1277 1346 1715 2250]\n",
      " [ 303  105    0  433  568  872 1172 1241 1610 2145]\n",
      " [ 736  538  433    0  135  439  739  808 1177 1712]\n",
      " [ 871  673  568  135    0  304  604  673 1042 1577]\n",
      " [1175  977  872  439  304    0  300  369  738 1273]\n",
      " [1475 1277 1172  739  604  300    0   69  438  973]\n",
      " [1544 1346 1241  808  673  369   69    0  369  904]\n",
      " [1913 1715 1610 1177 1042  738  438  369    0  535]\n",
      " [2448 2250 2145 1712 1577 1273  973  904  535    0]]\n",
      "[[   0.       318.64932  487.63002 1184.47424 1401.73514 1890.9745\n",
      "  2373.7765  2484.82096 3078.66742 3939.66432]\n",
      " [ 318.64932    0.       168.9807   865.82492 1083.08582 1572.32518\n",
      "  2055.12718 2166.17164 2760.0181  3621.015  ]\n",
      " [ 487.63002  168.9807     0.       696.84422  914.10512 1403.34448\n",
      "  1886.14648 1997.19094 2591.0374  3452.0343 ]\n",
      " [1184.47424  865.82492  696.84422    0.       217.2609   706.50026\n",
      "  1189.30226 1300.34672 1894.19318 2755.19008]\n",
      " [1401.73514 1083.08582  914.10512  217.2609     0.       489.23936\n",
      "   972.04136 1083.08582 1676.93228 2537.92918]\n",
      " [1890.9745  1572.32518 1403.34448  706.50026  489.23936    0.\n",
      "   482.802    593.84646 1187.69292 2048.68982]\n",
      " [2373.7765  2055.12718 1886.14648 1189.30226  972.04136  482.802\n",
      "     0.       111.04446  704.89092 1565.88782]\n",
      " [2484.82096 2166.17164 1997.19094 1300.34672 1083.08582  593.84646\n",
      "   111.04446    0.       593.84646 1454.84336]\n",
      " [3078.66742 2760.0181  2591.0374  1894.19318 1676.93228 1187.69292\n",
      "   704.89092  593.84646    0.       860.9969 ]\n",
      " [3939.66432 3621.015   3452.0343  2755.19008 2537.92918 2048.68982\n",
      "  1565.88782 1454.84336  860.9969     0.     ]]\n"
     ]
    }
   ],
   "source": [
    "#Solution\n",
    "dist=np.array([0, 198, 303, 736, 871, 1175, 1475, 1544, 1913, 2448])\n",
    "cities=np.array([\"Chicago\", \"Springfield\", \"Saint-Louis\", \"Tulsa\", \"Oklahoma City\", \"Amarillo\", \"Santa Fe\", \"Albuquerque\", \"Flagstaff\", \"Los Angeles\"])\n",
    "grid=np.array([[abs(i-j) for i in dist]  for j in dist])\n",
    "print(grid)\n",
    "grid=grid*1.60934\n",
    "print(grid)"
   ]
  },
  {
   "cell_type": "markdown",
   "metadata": {},
   "source": [
    "7\\. Prime numbers sieve: compute the prime numbers in the 0-N (N=99 to start with) range with a sieve (mask).\n",
    "  * Constract a shape (100,) boolean array, the mask\n",
    "  * Identify the multiples of each number starting from 2 and set accordingly the corresponding mask element\n",
    "  * Apply the mask to obtain an array of ordered prime numbers\n",
    "  * Check the performances (timeit); how does it scale with N?\n",
    "  * Implement the optimization suggested in the [sieve of Eratosthenes](https://en.wikipedia.org/wiki/Sieve_of_Eratosthenes)"
   ]
  },
  {
   "cell_type": "code",
   "execution_count": 9,
   "metadata": {
    "scrolled": true
   },
   "outputs": [],
   "source": [
    "#Solution without optimization\n",
    "def prime(N):\n",
    "    mask=[True]*N\n",
    "    for i in range(2,N+1):\n",
    "        for j in range(2,int(N/i)+1):\n",
    "                 mask[i*j-1]=False\n",
    "    return np.arange(1,N+1)[mask]"
   ]
  },
  {
   "cell_type": "code",
   "execution_count": 10,
   "metadata": {},
   "outputs": [
    {
     "name": "stdout",
     "output_type": "stream",
     "text": [
      "81.8 µs ± 1.84 µs per loop (mean ± std. dev. of 7 runs, 10000 loops each)\n",
      "168 µs ± 1.24 µs per loop (mean ± std. dev. of 7 runs, 10000 loops each)\n",
      "265 µs ± 1.97 µs per loop (mean ± std. dev. of 7 runs, 1000 loops each)\n"
     ]
    }
   ],
   "source": [
    "%timeit prime(99)\n",
    "%timeit prime(200)\n",
    "%timeit prime(300)"
   ]
  },
  {
   "cell_type": "markdown",
   "metadata": {},
   "source": [
    "The relation between time and N is almost linear"
   ]
  },
  {
   "cell_type": "code",
   "execution_count": 28,
   "metadata": {
    "scrolled": true
   },
   "outputs": [],
   "source": [
    "#Solution with optimization\n",
    "def prime2(N):\n",
    "    prime=np.arange(1,N+1)\n",
    "    mask=[True]*N\n",
    "    h=1\n",
    "    while h<len(prime):\n",
    "        p1=prime[h]\n",
    "        for i,j in enumerate(prime):\n",
    "            if (j%p1==0) and (j>p1): mask[i]=False\n",
    "        prime=prime[mask]\n",
    "        mask=[True]*len(prime)\n",
    "        h+=1\n",
    "    return prime"
   ]
  },
  {
   "cell_type": "code",
   "execution_count": 27,
   "metadata": {},
   "outputs": [
    {
     "name": "stdout",
     "output_type": "stream",
     "text": [
      "707 µs ± 12.8 µs per loop (mean ± std. dev. of 7 runs, 1000 loops each)\n",
      "2.01 ms ± 24.8 µs per loop (mean ± std. dev. of 7 runs, 1000 loops each)\n",
      "3.4 ms ± 27.9 µs per loop (mean ± std. dev. of 7 runs, 100 loops each)\n"
     ]
    }
   ],
   "source": [
    "%timeit prime2(99)\n",
    "%timeit prime2(200)\n",
    "%timeit prime2(300)"
   ]
  },
  {
   "cell_type": "markdown",
   "metadata": {},
   "source": [
    "8\\. Diffusion using random walk\n",
    "\n",
    "Consider a simple random walk process: at each step in time, a walker jumps right or left (+1 or -1) with equal probability. The goal is to find the typical distance from the origin of a random walker after a given amount of time. \n",
    "To do that, let's simulate many walkers and create a 2D array with each walker as a raw and the actual time evolution as columns\n",
    "\n",
    "  * Take 1000 walkers and let them walk for 200 steps\n",
    "  * Use randint to create a 2D array of size walkers x steps with values -1 or 1\n",
    "  * Build the actual walking distances for each walker (i.e. another 2D array \"summing on each raw\")\n",
    "  * Take the square of that 2D array (elementwise)\n",
    "  * Compute the mean of the squared distances at each step (i.e. the mean along the columns)\n",
    "  * Plot the average distances (sqrt(distance\\*\\*2)) as a function of time (step)\n",
    "  \n",
    "Did you get what you expected?"
   ]
  },
  {
   "cell_type": "code",
   "execution_count": 39,
   "metadata": {
    "scrolled": true
   },
   "outputs": [
    {
     "name": "stdout",
     "output_type": "stream",
     "text": [
      "As expected the average distance behaves as sqrt(n_steps)\n"
     ]
    },
    {
     "data": {
      "image/png": "[encoded data removed]",
      "text/plain": [
       "<Figure size 432x288 with 1 Axes>"
      ]
     },
     "metadata": {
      "needs_background": "light"
     },
     "output_type": "display_data"
    }
   ],
   "source": [
    "#Solution\n",
    "a=np.zeros(1000).reshape(1000,1)\n",
    "m=[]\n",
    "for i in range(200):\n",
    "    b=npr.randint(0,2,size=(1000,1))\n",
    "    b[b==0]=-1\n",
    "    a+=b\n",
    "    m.append([i+1,np.sqrt(a**2).mean()])\n",
    "m=np.sqrt(np.array(m))\n",
    "plt.plot(m[:,0],m[:,1])   \n",
    "print(\"As expected the average distance behaves as sqrt(n_steps)\")"
   ]
  },
  {
   "cell_type": "markdown",
   "metadata": {},
   "source": [
    "9\\. Analyze a data file \n",
    "  * Download the population of hares, lynxes and carrots at the beginning of the last century.\n",
    "    ```python\n",
    "    ! wget https://www.dropbox.com/s/3vigxoqayo389uc/populations.txt\n",
    "    ```\n",
    "\n",
    "  * Check the content by looking within the file\n",
    "  * Load the data (use an appropriate numpy method) into a 2D array\n",
    "  * Create arrays out of the columns, the arrays being (in order): *year*, *hares*, *lynxes*, *carrots* \n",
    "  * Plot the 3 populations over the years\n",
    "  * Compute the main statistical properties of the dataset (mean, std, correlations, etc.)\n",
    "  * Which species has the highest population each year?\n",
    "\n",
    "Do you feel there is some evident correlation here? [Studies](https://www.enr.gov.nt.ca/en/services/lynx/lynx-snowshoe-hare-cycle) tend to believe so."
   ]
  },
  {
   "cell_type": "code",
   "execution_count": 45,
   "metadata": {
    "scrolled": false
   },
   "outputs": [
    {
     "name": "stdout",
     "output_type": "stream",
     "text": [
      "Main statistical properties of  hares are:\n",
      "sum 715700.0\n",
      "min 7600.0\n",
      "argmin 17\n",
      "mean 34080.95238095238\n",
      "median 25400.0\n",
      "std 20897.906458089667\n",
      "Main statistical properties of  lynxes are:\n",
      "sum 423500.0\n",
      "min 4000.0\n",
      "argmin 0\n",
      "mean 20166.666666666668\n",
      "median 12300.0\n",
      "std 16254.591536908763\n",
      "Main statistical properties of  carrots are:\n",
      "sum 890400.0\n",
      "min 36700.0\n",
      "argmin 16\n",
      "mean 42400.0\n",
      "median 41800.0\n",
      "std 3322.5062255844787\n",
      "Correlation matrix between hares and lynxes: \n",
      "[[1.         0.07189206]\n",
      " [0.07189206 1.        ]]\n",
      "Correlation matrix between hares and carrots: \n",
      "[[ 1.         -0.01660378]\n",
      " [-0.01660378  1.        ]]\n",
      "Correlation matrix between lynxes and carrots: \n",
      "[[ 1.         -0.68057717]\n",
      " [-0.68057717  1.        ]]\n",
      "Population with max number for each year is:  [[1900.0, 'carrots'], [1901.0, 'carrots'], [1902.0, 'hares'], [1903.0, 'hares'], [1904.0, 'lynxes'], [1905.0, 'lynxes'], [1906.0, 'carrots'], [1907.0, 'carrots'], [1908.0, 'carrots'], [1909.0, 'carrots'], [1910.0, 'carrots'], [1911.0, 'carrots'], [1912.0, 'hares'], [1913.0, 'hares'], [1914.0, 'hares'], [1915.0, 'lynxes'], [1916.0, 'carrots'], [1917.0, 'carrots'], [1918.0, 'carrots'], [1919.0, 'carrots'], [1920.0, 'carrots']]\n"
     ]
    },
    {
     "data": {
      "image/png": "[encoded data removed]",
      "text/plain": [
       "<Figure size 432x288 with 1 Axes>"
      ]
     },
     "metadata": {
      "needs_background": "light"
     },
     "output_type": "display_data"
    }
   ],
   "source": [
    "\"Solution\"\n",
    "data=np.loadtxt('populations.txt',delimiter=\"\t\")\n",
    "year=data[:,0]\n",
    "hares=data[:,1]\n",
    "lynxes=data[:,2]\n",
    "carrots=data[:,3]\n",
    "plt.plot(year,hares,label='hares')\n",
    "plt.plot(year,lynxes,label='lynxes')\n",
    "plt.plot(year,carrots,label='carrots')\n",
    "plt.legend()\n",
    "for i,a in enumerate([hares,lynxes,carrots]):\n",
    "    print(\"Main statistical properties of \",[\"hares\",\"lynxes\",\"carrots\"][i],\"are:\")\n",
    "    for function in ['sum','min','argmin','mean','median','std']:\n",
    "        print (function, getattr(np, function)(a))\n",
    "print(\"Correlation matrix between hares and lynxes: \")\n",
    "print(np.corrcoef(hares, lynxes))\n",
    "print(\"Correlation matrix between hares and carrots: \")\n",
    "print(np.corrcoef(hares, carrots))\n",
    "print(\"Correlation matrix between lynxes and carrots: \")\n",
    "print(np.corrcoef(lynxes, carrots))\n",
    "maxdata=[[i[0],[\"hares\",\"lynxes\",\"carrots\"][np.argmax(i[1:])]] for i in data]\n",
    "print(\"Population with max number for each year is: \",maxdata)"
   ]
  },
  {
   "cell_type": "code",
   "execution_count": null,
   "metadata": {},
   "outputs": [],
   "source": []
  }
 ],
 "metadata": {
  "kernelspec": {
   "display_name": "Python 3",
   "language": "python",
   "name": "python3"
  },
  "language_info": {
   "codemirror_mode": {
    "name": "ipython",
    "version": 3
   },
   "file_extension": ".py",
   "mimetype": "text/x-python",
   "name": "python",
   "nbconvert_exporter": "python",
   "pygments_lexer": "ipython3",
   "version": "3.8.5"
  }
 },
 "nbformat": 4,
 "nbformat_minor": 2
}
